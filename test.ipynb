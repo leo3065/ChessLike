{
 "cells": [
  {
   "cell_type": "code",
   "execution_count": 1,
   "metadata": {},
   "outputs": [],
   "source": [
    "%load_ext autoreload\n",
    "%autoreload 2"
   ]
  },
  {
   "cell_type": "code",
   "execution_count": 2,
   "metadata": {},
   "outputs": [],
   "source": [
    "import ChessLike.shogi.kyotoShogi as kyoto\n",
    "import ChessLike.player as player\n",
    "import random\n"
   ]
  },
  {
   "cell_type": "code",
   "execution_count": 3,
   "metadata": {},
   "outputs": [
    {
     "name": "stdout",
     "output_type": "stream",
     "text": [
      " e d c b a  \n",
      "----------\n",
      " p g k s t|1\n",
      " . . . . .|2\n",
      " . . . . .|3\n",
      " . . . . .|4\n",
      " T S K G P|5\n",
      "[Move('P5a-4a='), Move('P5a-4a+'), Move('T5e-4d='), Move('T5e-4d+'), Move('T5e-4e='), Move('T5e-4e+'), Move('S5d-4c='), Move('S5d-4c+'), Move('S5d-4d='), Move('S5d-4d+'), Move('S5d-4e='), Move('S5d-4e+'), Move('K5c-4b'), Move('K5c-4c'), Move('K5c-4d'), Move('G5b-4a='), Move('G5b-4a+'), Move('G5b-4b='), Move('G5b-4b+'), Move('G5b-4c='), Move('G5b-4c+')]\n",
      "P5a-4a=\n",
      " e d c b a  \n",
      "----------\n",
      " p g k s t|1\n",
      " . . . . .|2\n",
      " . . . . .|3\n",
      " . . B . .|4\n",
      " T . K G P|5\n",
      "[Move('B4c-5d='), Move('B4c-5d+'), Move('B4c-3d='), Move('B4c-3d+'), Move('B4c-2e='), Move('B4c-2e+'), Move('B4c-3b='), Move('B4c-3b+'), Move('B4c-2a='), Move('B4c-2a+'), Move('P5a-4a='), Move('P5a-4a+'), Move('T5e-4d='), Move('T5e-4d+'), Move('T5e-4e='), Move('T5e-4e+'), Move('T5e-5d='), Move('T5e-5d+'), Move('K5c-4b'), Move('K5c-4d'), Move('K5c-5d'), Move('G5b-4a='), Move('G5b-4a+'), Move('G5b-4b='), Move('G5b-4b+')]\n",
      "B4c-5d=\n",
      " e d c b a  \n",
      "----------\n",
      " p g k s t|1\n",
      " . . . . .|2\n",
      " . B . . .|3\n",
      " . . . . .|4\n",
      " T . K G P|5\n",
      "[Move('B3d-4e='), Move('B3d-4e+'), Move('B3d-2e='), Move('B3d-2e+'), Move('B3d-2c='), Move('B3d-2c+'), Move('B3dx1b='), Move('B3dx1b+'), Move('B3d-4c='), Move('B3d-4c+'), Move('T5e-4d='), Move('T5e-4d+'), Move('T5e-4e='), Move('T5e-4e+'), Move('T5e-5d='), Move('T5e-5d+'), Move('G5b-4a='), Move('G5b-4a+'), Move('G5b-4b='), Move('G5b-4b+'), Move('G5b-4c='), Move('G5b-4c+'), Move('P5a-4a='), Move('P5a-4a+'), Move('K5c-4b'), Move('K5c-4c'), Move('K5c-4d'), Move('K5c-5d')]\n",
      "B3d-4e=\n",
      " e d c b a  \n",
      "----------\n",
      " p g k s t|1\n",
      " . . . . .|2\n",
      " . B . . .|3\n",
      " . . . . .|4\n",
      " . T K G P|5\n",
      "[Move('B3d-4e='), Move('B3d-4e+'), Move('B3d-2e='), Move('B3d-2e+'), Move('B3d-2c='), Move('B3d-2c+'), Move('B3dx1b='), Move('B3dx1b+'), Move('B3d-4c='), Move('B3d-4c+'), Move('G5b-4a='), Move('G5b-4a+'), Move('G5b-4b='), Move('G5b-4b+'), Move('G5b-4c='), Move('G5b-4c+'), Move('P5a-4a='), Move('P5a-4a+'), Move('T5d-4c='), Move('T5d-4c+'), Move('T5d-4d='), Move('T5d-4d+'), Move('T5d-4e='), Move('T5d-4e+'), Move('T5d-5e='), Move('T5d-5e+'), Move('K5c-4b'), Move('K5c-4c'), Move('K5c-4d')]\n",
      "B3d-4e=\n",
      " e d c b a  \n",
      "----------\n",
      " p g k s t|1\n",
      " . . . . .|2\n",
      " . . . . .|3\n",
      " . . B . .|4\n",
      " . T K G P|5\n",
      "[Move('G5b-4a='), Move('G5b-4a+'), Move('G5b-4b='), Move('G5b-4b+'), Move('B4c-3d='), Move('B4c-3d+'), Move('B4c-2e='), Move('B4c-2e+'), Move('B4c-3b='), Move('B4c-3b+'), Move('B4c-2a='), Move('B4c-2a+'), Move('P5a-4a='), Move('P5a-4a+'), Move('T5d-4d='), Move('T5d-4d+'), Move('T5d-4e='), Move('T5d-4e+'), Move('T5d-5e='), Move('T5d-5e+'), Move('K5c-4b'), Move('K5c-4d')]\n",
      "G5b-4a=\n",
      " e d c b a  \n",
      "----------\n",
      " p g k s t|1\n",
      " . . . . .|2\n",
      " . . . . .|3\n",
      " . T B . .|4\n",
      " . . K G P|5\n",
      "[Move('T4d-3c='), Move('T4d-3c+'), Move('T4d-3d='), Move('T4d-3d+'), Move('T4d-3e='), Move('T4d-3e+'), Move('T4d-4e='), Move('T4d-4e+'), Move('T4d-5d='), Move('T4d-5d+'), Move('G5b-4a='), Move('G5b-4a+'), Move('G5b-4b='), Move('G5b-4b+'), Move('B4c-5d='), Move('B4c-5d+'), Move('B4c-3d='), Move('B4c-3d+'), Move('B4c-2e='), Move('B4c-2e+'), Move('B4c-3b='), Move('B4c-3b+'), Move('B4c-2a='), Move('B4c-2a+'), Move('P5a-4a='), Move('P5a-4a+'), Move('K5c-4b'), Move('K5c-5d')]\n",
      "T4d-3c=\n",
      " e d c b a  \n",
      "----------\n",
      " p g k s t|1\n",
      " . . . . S|2\n",
      " . . . . .|3\n",
      " . T . . .|4\n",
      " . . K G P|5\n",
      "[Move('S2ax1a='), Move('S2ax1a+'), Move('S2ax1b='), Move('S2ax1b+'), Move('S2a-3b='), Move('S2a-3b+'), Move('T4d-3c='), Move('T4d-3c+'), Move('T4d-3d='), Move('T4d-3d+'), Move('T4d-3e='), Move('T4d-3e+'), Move('T4d-4c='), Move('T4d-4c+'), Move('T4d-4e='), Move('T4d-4e+'), Move('T4d-5d='), Move('T4d-5d+'), Move('G5b-4a='), Move('G5b-4a+'), Move('G5b-4b='), Move('G5b-4b+'), Move('G5b-4c='), Move('G5b-4c+'), Move('P5a-4a='), Move('P5a-4a+'), Move('K5c-4b'), Move('K5c-4c'), Move('K5c-5d')]\n",
      "S2ax1a=\n",
      " e d c b a  \n",
      "----------\n",
      " p g k s t|1\n",
      " . . . . S|2\n",
      " . . . . .|3\n",
      " . . T . .|4\n",
      " . . K G P|5\n",
      "[Move('S2ax1a='), Move('S2ax1a+'), Move('S2ax1b='), Move('S2ax1b+'), Move('S2a-3b='), Move('S2a-3b+'), Move('G5b-4a='), Move('G5b-4a+'), Move('G5b-4b='), Move('G5b-4b+'), Move('T4c-3b='), Move('T4c-3b+'), Move('T4c-3c='), Move('T4c-3c+'), Move('T4c-3d='), Move('T4c-3d+'), Move('T4c-4b='), Move('T4c-4b+'), Move('T4c-4d='), Move('T4c-4d+'), Move('P5a-4a='), Move('P5a-4a+'), Move('K5c-4b'), Move('K5c-4d'), Move('K5c-5d')]\n",
      "S2ax1a=\n",
      " e d c b a  \n",
      "----------\n",
      " p g k s t|1\n",
      " . . . . S|2\n",
      " . . . . .|3\n",
      " . . T . R|4\n",
      " . . K G .|5\n",
      "[Move('S2ax1a='), Move('S2ax1a+'), Move('S2ax1b='), Move('S2ax1b+'), Move('S2a-3b='), Move('S2a-3b+'), Move('G5b-4b='), Move('G5b-4b+'), Move('G5b-5a='), Move('G5b-5a+'), Move('T4c-3b='), Move('T4c-3b+'), Move('T4c-3c='), Move('T4c-3c+'), Move('T4c-3d='), Move('T4c-3d+'), Move('T4c-4b='), Move('T4c-4b+'), Move('T4c-4d='), Move('T4c-4d+'), Move('R4a-5a='), Move('R4a-5a+'), Move('R4a-4b='), Move('R4a-4b+'), Move('R4a-3a='), Move('R4a-3a+'), Move('K5c-4b'), Move('K5c-4d'), Move('K5c-5d')]\n",
      "S2ax1a=\n",
      " e d c b a  \n",
      "----------\n",
      " p g k s t|1\n",
      " . . . . S|2\n",
      " . . . . .|3\n",
      " . L . . R|4\n",
      " . . K G .|5\n",
      "[Move('S2ax1a='), Move('S2ax1a+'), Move('S2ax1b='), Move('S2ax1b+'), Move('S2a-3b='), Move('S2a-3b+'), Move('L4d-3d='), Move('L4d-3d+'), Move('L4d-2d='), Move('L4d-2d+'), Move('L4dx1d='), Move('L4dx1d+'), Move('G5b-4b='), Move('G5b-4b+'), Move('G5b-4c='), Move('G5b-4c+'), Move('G5b-5a='), Move('G5b-5a+'), Move('R4a-5a='), Move('R4a-5a+'), Move('R4a-4b='), Move('R4a-4b+'), Move('R4a-4c='), Move('R4a-4c+'), Move('R4a-3a='), Move('R4a-3a+'), Move('K5c-4b'), Move('K5c-4c'), Move('K5c-5d')]\n",
      "S2ax1a=\n",
      " e d c b a  \n",
      "----------\n",
      " p g k s t|1\n",
      " . . . . .|2\n",
      " . . . B .|3\n",
      " . L . . R|4\n",
      " . . K G .|5\n"
     ]
    }
   ],
   "source": [
    "game = kyoto.kyotoShogiGame()\n",
    "\n",
    "for i in range(10):\n",
    "    game.printBoard()\n",
    "    print(game.legalMoves())\n",
    "    move = game.legalMoves()[0]\n",
    "    print(move)\n",
    "    \n",
    "    game.play(player.randomMove(game))\n",
    "\n",
    "game.printBoard()\n"
   ]
  },
  {
   "cell_type": "code",
   "execution_count": 64,
   "metadata": {},
   "outputs": [
    {
     "name": "stdout",
     "output_type": "stream",
     "text": [
      " e d c b a  \n",
      "----------\n",
      " k . . . R|1\n",
      " . . g . .|2\n",
      " K . . . .|3\n",
      " . . . . .|4\n",
      " . . . . .|5\n",
      "B: [Pawn(black)]\n",
      "W: []\n",
      "[Move('G2c-1c='), Move('G2c-1c+'), Move('P*1b'), Move('P*1c'), Move('P*1d')]\n",
      "\n",
      " e d c b a  \n",
      "----------\n",
      " k p . . R|1\n",
      " . . g . .|2\n",
      " K . . . .|3\n",
      " . . . . .|4\n",
      " . . . . .|5\n",
      "B: []\n",
      "W: []\n",
      "[Move('P1d-2d='), Move('P1d-2d+'), Move('G2c-3d='), Move('G2c-3d+'), Move('G2c-3c='), Move('G2c-3c+'), Move('G2c-3b='), Move('G2c-3b+'), Move('G2c-2d='), Move('G2c-2d+'), Move('G2c-2b='), Move('G2c-2b+'), Move('G2c-1c='), Move('G2c-1c+')]\n"
     ]
    }
   ],
   "source": [
    "game = kyoto.kyotoShogiGame()\n",
    "game.board={}\n",
    "game.currentColor=kyoto.BLACK\n",
    "game.board[(4,2)]=kyoto.King(kyoto.WHITE,kyoto.King)\n",
    "game.board[(0,0)]=kyoto.Rook(kyoto.WHITE,kyoto.King)\n",
    "game.board[(4,0)]=kyoto.King(kyoto.BLACK,kyoto.King)\n",
    "game.board[(2,1)]=kyoto.Gold(kyoto.BLACK,kyoto.King)\n",
    "game.captured[kyoto.BLACK].append(kyoto.Pawn(kyoto.BLACK,kyoto.Pawn))\n",
    "game.printBoard()\n",
    "print(game.legalMoves())\n",
    "game.play(game.legalMoves()[4])\n",
    "print()\n",
    "game.printBoard()\n",
    "print(game.legalMoves())"
   ]
  },
  {
   "cell_type": "code",
   "execution_count": 61,
   "metadata": {},
   "outputs": [
    {
     "name": "stdout",
     "output_type": "stream",
     "text": [
      " e d c b a  \n",
      "----------\n",
      " . . k . .|1\n",
      " . . . G .|2\n",
      " p . . . K|3\n",
      " . . . . .|4\n",
      " . . . . .|5\n",
      "B: []\n",
      "W: []\n",
      "[Move('K1c-1d'), Move('K1c-2d')]\n",
      "{(1, 1): Gold(white)}\n",
      "True\n",
      "False\n"
     ]
    }
   ],
   "source": [
    "game = kyoto.kyotoShogiGame()\n",
    "game.board={}\n",
    "game.currentColor=kyoto.BLACK\n",
    "game.board[(0,2)]=kyoto.King(kyoto.WHITE,kyoto.King)\n",
    "game.board[(1,1)]=kyoto.Gold(kyoto.WHITE,kyoto.King)\n",
    "game.board[(2,0)]=kyoto.King(kyoto.BLACK,kyoto.King)\n",
    "game.board[(4,2)]=kyoto.Pawn(kyoto.BLACK,kyoto.King)\n",
    "game.printBoard()\n",
    "print(game.legalMoves())\n",
    "print(game.checkedBy())\n",
    "print(game.isChecked())\n",
    "print(game.isCheckmate())"
   ]
  },
  {
   "cell_type": "code",
   "execution_count": null,
   "metadata": {},
   "outputs": [],
   "source": []
  }
 ],
 "metadata": {
  "kernelspec": {
   "display_name": "Python 3",
   "language": "python",
   "name": "python3"
  },
  "language_info": {
   "codemirror_mode": {
    "name": "ipython",
    "version": 3
   },
   "file_extension": ".py",
   "mimetype": "text/x-python",
   "name": "python",
   "nbconvert_exporter": "python",
   "pygments_lexer": "ipython3",
   "version": "3.5.1"
  }
 },
 "nbformat": 4,
 "nbformat_minor": 4
}
