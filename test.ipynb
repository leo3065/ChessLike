{
 "cells": [
  {
   "cell_type": "code",
   "execution_count": 1,
   "metadata": {},
   "outputs": [],
   "source": [
    "%load_ext autoreload\n",
    "%autoreload 2"
   ]
  },
  {
   "cell_type": "code",
   "execution_count": 2,
   "metadata": {},
   "outputs": [],
   "source": [
    "import nPawn\n",
    "import random\n",
    "from collections import Counter"
   ]
  },
  {
   "cell_type": "code",
   "execution_count": 3,
   "metadata": {},
   "outputs": [],
   "source": [
    "def randomMove(game): \n",
    "    return random.choice(game.legalMoves())"
   ]
  },
  {
   "cell_type": "code",
   "execution_count": 4,
   "metadata": {},
   "outputs": [],
   "source": [
    "def minOpponent(game):\n",
    "    def oppenentMoves(move):\n",
    "        return game.peek(move).legalMoves()\n",
    "    \n",
    "    moves = game.legalMoves()\n",
    "    random.shuffle(moves)\n",
    "    return sorted(moves, \n",
    "                 key=lambda move: len(oppenentMoves(move)))[0]"
   ]
  },
  {
   "cell_type": "code",
   "execution_count": 5,
   "metadata": {},
   "outputs": [
    {
     "name": "stdout",
     "output_type": "stream",
     "text": [
      "a|b|c|d|e|f|g|h|  \n",
      "---------------+--\n",
      "♟|♟|♟|♟|♟|♟|♟|♟|4\n",
      "---------------+--\n",
      " | | | | | | | |3\n",
      "---------------+--\n",
      " | | | | | | | |2\n",
      "---------------+--\n",
      "♙|♙|♙|♙|♙|♙|♙|♙|1\n",
      "---------------+--\n",
      "\n",
      "a|b|c|d|e|f|g|h|  \n",
      "---------------+--\n",
      "♟|♟|♟|♟|♟|♟|♟|♟|4\n",
      "---------------+--\n",
      " | | | | | | | |3\n",
      "---------------+--\n",
      " | |♙| | | | | |2\n",
      "---------------+--\n",
      "♙|♙| |♙|♙|♙|♙|♙|1\n",
      "---------------+--\n",
      "\n",
      "a|b|c|d|e|f|g|h|  \n",
      "---------------+--\n",
      "♟|♟| |♟|♟|♟|♟|♟|4\n",
      "---------------+--\n",
      " | |♟| | | | | |3\n",
      "---------------+--\n",
      " | |♙| | | | | |2\n",
      "---------------+--\n",
      "♙|♙| |♙|♙|♙|♙|♙|1\n",
      "---------------+--\n",
      "\n",
      "a|b|c|d|e|f|g|h|  \n",
      "---------------+--\n",
      "♟|♟| |♟|♟|♟|♟|♟|4\n",
      "---------------+--\n",
      " | |♟| | | | | |3\n",
      "---------------+--\n",
      " | |♙| |♙| | | |2\n",
      "---------------+--\n",
      "♙|♙| |♙| |♙|♙|♙|1\n",
      "---------------+--\n",
      "\n",
      "a|b|c|d|e|f|g|h|  \n",
      "---------------+--\n",
      "♟|♟| |♟| |♟|♟|♟|4\n",
      "---------------+--\n",
      " | |♟| |♟| | | |3\n",
      "---------------+--\n",
      " | |♙| |♙| | | |2\n",
      "---------------+--\n",
      "♙|♙| |♙| |♙|♙|♙|1\n",
      "---------------+--\n",
      "\n",
      "a|b|c|d|e|f|g|h|  \n",
      "---------------+--\n",
      "♟|♟| |♟| |♟|♟|♟|4\n",
      "---------------+--\n",
      " | |♟| |♟| | | |3\n",
      "---------------+--\n",
      " | |♙| |♙| | |♙|2\n",
      "---------------+--\n",
      "♙|♙| |♙| |♙|♙| |1\n",
      "---------------+--\n",
      "\n",
      "a|b|c|d|e|f|g|h|  \n",
      "---------------+--\n",
      "♟|♟| |♟| |♟|♟| |4\n",
      "---------------+--\n",
      " | |♟| |♟| | |♟|3\n",
      "---------------+--\n",
      " | |♙| |♙| | |♙|2\n",
      "---------------+--\n",
      "♙|♙| |♙| |♙|♙| |1\n",
      "---------------+--\n",
      "\n",
      "a|b|c|d|e|f|g|h|  \n",
      "---------------+--\n",
      "♟|♟| |♟| |♟|♟| |4\n",
      "---------------+--\n",
      " | |♟| |♟| | |♟|3\n",
      "---------------+--\n",
      "♙| |♙| |♙| | |♙|2\n",
      "---------------+--\n",
      " |♙| |♙| |♙|♙| |1\n",
      "---------------+--\n",
      "\n",
      "a|b|c|d|e|f|g|h|  \n",
      "---------------+--\n",
      " |♟| |♟| |♟|♟| |4\n",
      "---------------+--\n",
      "♟| |♟| |♟| | |♟|3\n",
      "---------------+--\n",
      "♙| |♙| |♙| | |♙|2\n",
      "---------------+--\n",
      " |♙| |♙| |♙|♙| |1\n",
      "---------------+--\n",
      "\n",
      "a|b|c|d|e|f|g|h|  \n",
      "---------------+--\n",
      " |♟| |♟| |♟|♟| |4\n",
      "---------------+--\n",
      "♟| |♟| |♟| | |♟|3\n",
      "---------------+--\n",
      "♙| |♙| |♙| |♙|♙|2\n",
      "---------------+--\n",
      " |♙| |♙| |♙| | |1\n",
      "---------------+--\n",
      "\n",
      "a|b|c|d|e|f|g|h|  \n",
      "---------------+--\n",
      " |♟| |♟| |♟| | |4\n",
      "---------------+--\n",
      "♟| |♟| |♟| |♟|♟|3\n",
      "---------------+--\n",
      "♙| |♙| |♙| |♙|♙|2\n",
      "---------------+--\n",
      " |♙| |♙| |♙| | |1\n",
      "---------------+--\n",
      "\n",
      "a|b|c|d|e|f|g|h|  \n",
      "---------------+--\n",
      " |♟| |♟| |♟| | |4\n",
      "---------------+--\n",
      "♟| |♟| |♟| |♟|♙|3\n",
      "---------------+--\n",
      "♙| |♙| |♙| | |♙|2\n",
      "---------------+--\n",
      " |♙| |♙| |♙| | |1\n",
      "---------------+--\n",
      "\n",
      "a|b|c|d|e|f|g|h|  \n",
      "---------------+--\n",
      " |♟| |♟| |♟| | |4\n",
      "---------------+--\n",
      "♟| |♟| |♟| | |♙|3\n",
      "---------------+--\n",
      "♙| |♙| |♙| | |♟|2\n",
      "---------------+--\n",
      " |♙| |♙| |♙| | |1\n",
      "---------------+--\n",
      "\n",
      "a|b|c|d|e|f|g|h|  \n",
      "---------------+--\n",
      " |♟| |♟| |♟| |♙|4\n",
      "---------------+--\n",
      "♟| |♟| |♟| | | |3\n",
      "---------------+--\n",
      "♙| |♙| |♙| | |♟|2\n",
      "---------------+--\n",
      " |♙| |♙| |♙| | |1\n",
      "---------------+--\n",
      "\n",
      "white wins! \n"
     ]
    }
   ],
   "source": [
    "game = nPawn.nPawnGame((4,8))\n",
    "while not game.winner():\n",
    "    game.printBoard(style=\"unicode\")\n",
    "    print()\n",
    "    if game.currentColor == nPawn.WHITE:\n",
    "        game.play(minOpponent(game))\n",
    "    else:\n",
    "        game.play(minOpponent(game))\n",
    "\n",
    "game.printBoard(style=\"unicode\")\n",
    "print()\n",
    "print(\"{} wins! \".format(game.winner()))"
   ]
  },
  {
   "cell_type": "code",
   "execution_count": 6,
   "metadata": {},
   "outputs": [],
   "source": [
    "def playGame(size=None,white=randomMove,black=randomMove):\n",
    "    game = nPawn.nPawnGame(size)\n",
    "\n",
    "    while not game.winner():\n",
    "        if game.currentColor == nPawn.WHITE:\n",
    "            game.play(white(game))\n",
    "        else:\n",
    "            game.play(black(game))\n",
    "\n",
    "    return game"
   ]
  },
  {
   "cell_type": "code",
   "execution_count": 7,
   "metadata": {},
   "outputs": [
    {
     "data": {
      "text/plain": [
       "Counter({'black': 48, 'white': 52})"
      ]
     },
     "execution_count": 7,
     "metadata": {},
     "output_type": "execute_result"
    }
   ],
   "source": [
    "Counter([playGame().winner() for i in range(100)])"
   ]
  },
  {
   "cell_type": "code",
   "execution_count": 8,
   "metadata": {},
   "outputs": [
    {
     "data": {
      "text/plain": [
       "Counter({'black': 74, 'white': 26})"
      ]
     },
     "execution_count": 8,
     "metadata": {},
     "output_type": "execute_result"
    }
   ],
   "source": [
    "Counter([playGame(black=minOpponent).winner() for i in range(100)])"
   ]
  },
  {
   "cell_type": "code",
   "execution_count": 9,
   "metadata": {},
   "outputs": [
    {
     "data": {
      "text/plain": [
       "Counter({'black': 16, 'white': 84})"
      ]
     },
     "execution_count": 9,
     "metadata": {},
     "output_type": "execute_result"
    }
   ],
   "source": [
    "Counter([playGame(white=minOpponent).winner() for i in range(100)])"
   ]
  },
  {
   "cell_type": "code",
   "execution_count": 10,
   "metadata": {},
   "outputs": [
    {
     "data": {
      "text/plain": [
       "Counter({'black': 78, 'white': 22})"
      ]
     },
     "execution_count": 10,
     "metadata": {},
     "output_type": "execute_result"
    }
   ],
   "source": [
    "Counter([playGame(black=minOpponent,white=minOpponent).winner() for i in range(100)])"
   ]
  },
  {
   "cell_type": "code",
   "execution_count": null,
   "metadata": {},
   "outputs": [],
   "source": []
  }
 ],
 "metadata": {
  "kernelspec": {
   "display_name": "Python 3",
   "language": "python",
   "name": "python3"
  },
  "language_info": {
   "codemirror_mode": {
    "name": "ipython",
    "version": 3
   },
   "file_extension": ".py",
   "mimetype": "text/x-python",
   "name": "python",
   "nbconvert_exporter": "python",
   "pygments_lexer": "ipython3",
   "version": "3.5.1"
  }
 },
 "nbformat": 4,
 "nbformat_minor": 4
}
