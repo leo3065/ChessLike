{
 "cells": [
  {
   "cell_type": "code",
   "execution_count": 2,
   "metadata": {},
   "outputs": [],
   "source": [
    "%load_ext autoreload\n",
    "%autoreload 2"
   ]
  },
  {
   "cell_type": "code",
   "execution_count": 3,
   "metadata": {},
   "outputs": [],
   "source": [
    "import ChessLike.shogi.kyotoShogi as kyoto\n",
    "import ChessLike.player as player\n",
    "import random\n"
   ]
  },
  {
   "cell_type": "code",
   "execution_count": 22,
   "metadata": {},
   "outputs": [
    {
     "name": "stdout",
     "output_type": "stream",
     "text": [
      "^玉  ・  ・  ・  ・ |1\n",
      "v角  ・  ・ vと  ・ |2\n",
      " ・ v玉 v香  ・  ・ |3\n",
      " ・ v角  ・  ・  ・ |4\n",
      " ・  ・  ・  ・  ・ |5\n",
      "B: [Knight(black), Knight(black), Pawn(black), Pawn(black)]\n",
      "W: []\n",
      "black\n"
     ]
    }
   ],
   "source": [
    "game = kyoto.kyotoShogiGame()\n",
    "\n",
    "for i in range(1000):\n",
    "    #game.printBoard()\n",
    "    #print(game.legalMoves())\n",
    "    \n",
    "    game.play(player.minOpponents(game))\n",
    "    if game.winner() is not None:\n",
    "        break\n",
    "game.printBoard(\"kanji\")\n",
    "print(game.winner())\n"
   ]
  },
  {
   "cell_type": "code",
   "execution_count": 64,
   "metadata": {},
   "outputs": [
    {
     "name": "stdout",
     "output_type": "stream",
     "text": [
      " e d c b a  \n",
      "----------\n",
      " k . . . R|1\n",
      " . . g . .|2\n",
      " K . . . .|3\n",
      " . . . . .|4\n",
      " . . . . .|5\n",
      "B: [Pawn(black)]\n",
      "W: []\n",
      "[Move('G2c-1c='), Move('G2c-1c+'), Move('P*1b'), Move('P*1c'), Move('P*1d')]\n",
      "\n",
      " e d c b a  \n",
      "----------\n",
      " k p . . R|1\n",
      " . . g . .|2\n",
      " K . . . .|3\n",
      " . . . . .|4\n",
      " . . . . .|5\n",
      "B: []\n",
      "W: []\n",
      "[Move('P1d-2d='), Move('P1d-2d+'), Move('G2c-3d='), Move('G2c-3d+'), Move('G2c-3c='), Move('G2c-3c+'), Move('G2c-3b='), Move('G2c-3b+'), Move('G2c-2d='), Move('G2c-2d+'), Move('G2c-2b='), Move('G2c-2b+'), Move('G2c-1c='), Move('G2c-1c+')]\n"
     ]
    }
   ],
   "source": [
    "game = kyoto.kyotoShogiGame()\n",
    "game.board={}\n",
    "game.currentColor=kyoto.BLACK\n",
    "game.board[(4,2)]=kyoto.King(kyoto.WHITE,kyoto.King)\n",
    "game.board[(0,0)]=kyoto.Rook(kyoto.WHITE,kyoto.King)\n",
    "game.board[(4,0)]=kyoto.King(kyoto.BLACK,kyoto.King)\n",
    "game.board[(2,1)]=kyoto.Gold(kyoto.BLACK,kyoto.King)\n",
    "game.captured[kyoto.BLACK].append(kyoto.Pawn(kyoto.BLACK,kyoto.Pawn))\n",
    "game.printBoard()\n",
    "print(game.legalMoves())\n",
    "game.play(game.legalMoves()[4])\n",
    "print()\n",
    "game.printBoard()\n",
    "print(game.legalMoves())"
   ]
  },
  {
   "cell_type": "code",
   "execution_count": 17,
   "metadata": {},
   "outputs": [
    {
     "name": "stdout",
     "output_type": "stream",
     "text": [
      " e d c b a  \n",
      "----------\n",
      " . . k . .|1\n",
      " . . . G .|2\n",
      " p . . . K|3\n",
      " . . . . .|4\n",
      " . . . . .|5\n",
      "B: []\n",
      "W: []\n",
      "[Move('K1c-1d'), Move('K1c-2d')]\n",
      "{(1, 1): Gold(white)}\n",
      "True\n",
      "False\n"
     ]
    }
   ],
   "source": [
    "game = kyoto.kyotoShogiGame()\n",
    "game.board={}\n",
    "game.currentColor=kyoto.BLACK\n",
    "game.board[(0,2)]=kyoto.King(kyoto.WHITE,kyoto.King)\n",
    "game.board[(1,1)]=kyoto.Gold(kyoto.WHITE,kyoto.King)\n",
    "game.board[(2,0)]=kyoto.King(kyoto.BLACK,kyoto.King)\n",
    "game.board[(4,2)]=kyoto.Pawn(kyoto.BLACK,kyoto.King)\n",
    "game.printBoard()\n",
    "print(game.legalMoves())\n",
    "print(game.checkedBy())\n",
    "print(game.isChecked())\n",
    "print(game.isCheckmate())"
   ]
  },
  {
   "cell_type": "code",
   "execution_count": null,
   "metadata": {},
   "outputs": [],
   "source": []
  }
 ],
 "metadata": {
  "kernelspec": {
   "display_name": "Python 3",
   "language": "python",
   "name": "python3"
  },
  "language_info": {
   "codemirror_mode": {
    "name": "ipython",
    "version": 3
   },
   "file_extension": ".py",
   "mimetype": "text/x-python",
   "name": "python",
   "nbconvert_exporter": "python",
   "pygments_lexer": "ipython3",
   "version": "3.5.1"
  }
 },
 "nbformat": 4,
 "nbformat_minor": 4
}
