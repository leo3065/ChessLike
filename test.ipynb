{
 "cells": [
  {
   "cell_type": "code",
   "execution_count": 1,
   "metadata": {},
   "outputs": [],
   "source": [
    "%load_ext autoreload\n",
    "%autoreload 2"
   ]
  },
  {
   "cell_type": "code",
   "execution_count": 2,
   "metadata": {},
   "outputs": [],
   "source": [
    "import ChessLike.shogi.kyotoShogi as kyoto\n",
    "import ChessLike.player as player\n",
    "import random\n"
   ]
  },
  {
   "cell_type": "code",
   "execution_count": 27,
   "metadata": {},
   "outputs": [
    {
     "name": "stdout",
     "output_type": "stream",
     "text": [
      " e d c b a  \n",
      "----------\n",
      " p g k s t|1\n",
      " . . . . .|2\n",
      " . . . . .|3\n",
      " . . . . .|4\n",
      " T S K G P|5\n",
      "[Move('P5a-4a='), Move('P5a-4a+'), Move('T5e-4d='), Move('T5e-4d+'), Move('T5e-4e='), Move('T5e-4e+'), Move('S5d-4c='), Move('S5d-4c+'), Move('S5d-4d='), Move('S5d-4d+'), Move('S5d-4e='), Move('S5d-4e+'), Move('K5c-4b'), Move('K5c-4c'), Move('K5c-4d'), Move('G5b-4a='), Move('G5b-4a+'), Move('G5b-4b='), Move('G5b-4b+'), Move('G5b-4c='), Move('G5b-4c+')]\n",
      "P5a-4a=\n",
      " e d c b a  \n",
      "----------\n",
      " p g k s t|1\n",
      " . . . . .|2\n",
      " . . . . .|3\n",
      " . T . . .|4\n",
      " . S K G P|5\n",
      "[Move('T4d-3c='), Move('T4d-3c+'), Move('T4d-3d='), Move('T4d-3d+'), Move('T4d-3e='), Move('T4d-3e+'), Move('T4d-4c='), Move('T4d-4c+'), Move('T4d-4e='), Move('T4d-4e+'), Move('P5a-4a='), Move('P5a-4a+'), Move('S5d-4c='), Move('S5d-4c+'), Move('S5d-4e='), Move('S5d-4e+'), Move('K5c-4b'), Move('K5c-4c'), Move('G5b-4a='), Move('G5b-4a+'), Move('G5b-4b='), Move('G5b-4b+'), Move('G5b-4c='), Move('G5b-4c+')]\n",
      "T4d-3c=\n",
      " e d c b a  \n",
      "----------\n",
      " p g k s t|1\n",
      " . . . . .|2\n",
      " . . . . .|3\n",
      " . . L . .|4\n",
      " . S K G P|5\n",
      "[Move('G5b-4a='), Move('G5b-4a+'), Move('G5b-4b='), Move('G5b-4b+'), Move('L4c-3c='), Move('L4c-3c+'), Move('L4c-2c='), Move('L4c-2c+'), Move('L4cx1c='), Move('L4cx1c+'), Move('P5a-4a='), Move('P5a-4a+'), Move('S5d-4d='), Move('S5d-4d+'), Move('S5d-4e='), Move('S5d-4e+'), Move('K5c-4b'), Move('K5c-4d')]\n",
      "G5b-4a=\n",
      " e d c b a  \n",
      "----------\n",
      " p g k s t|1\n",
      " . . . . .|2\n",
      " . . . . .|3\n",
      " . . L . R|4\n",
      " . S K G .|5\n",
      "[Move('R4a-5a='), Move('R4a-5a+'), Move('R4a-4b='), Move('R4a-4b+'), Move('R4a-3a='), Move('R4a-3a+'), Move('R4a-2a='), Move('R4a-2a+'), Move('R4ax1a='), Move('R4ax1a+'), Move('G5b-4b='), Move('G5b-4b+'), Move('G5b-5a='), Move('G5b-5a+'), Move('L4c-3c='), Move('L4c-3c+'), Move('L4c-2c='), Move('L4c-2c+'), Move('L4cx1c='), Move('L4cx1c+'), Move('S5d-4d='), Move('S5d-4d+'), Move('S5d-4e='), Move('S5d-4e+'), Move('K5c-4b'), Move('K5c-4d')]\n",
      "R4a-5a=\n",
      " e d c b a  \n",
      "----------\n",
      " p g k s t|1\n",
      " . . . . .|2\n",
      " . . . . .|3\n",
      " . . L G R|4\n",
      " . S K . .|5\n",
      "[Move('R4a-5a='), Move('R4a-5a+'), Move('R4a-3a='), Move('R4a-3a+'), Move('R4a-2a='), Move('R4a-2a+'), Move('R4ax1a='), Move('R4ax1a+'), Move('G4b-3a='), Move('G4b-3a+'), Move('G4b-3b='), Move('G4b-3b+'), Move('G4b-3c='), Move('G4b-3c+'), Move('G4b-5b='), Move('G4b-5b+'), Move('L4c-3c='), Move('L4c-3c+'), Move('L4c-2c='), Move('L4c-2c+'), Move('L4cx1c='), Move('L4cx1c+'), Move('S5d-4d='), Move('S5d-4d+'), Move('S5d-4e='), Move('S5d-4e+'), Move('K5c-4d'), Move('K5c-5b')]\n",
      "R4a-5a=\n",
      " e d c b a  \n",
      "----------\n",
      " p g k s P|1\n",
      " . . . . .|2\n",
      " . . . . .|3\n",
      " . . L G .|4\n",
      " . S K . .|5\n",
      "[Move('G4b-3a='), Move('G4b-3a+'), Move('G4b-3b='), Move('G4b-3b+'), Move('G4b-3c='), Move('G4b-3c+'), Move('G4b-4a='), Move('G4b-4a+'), Move('G4b-5b='), Move('G4b-5b+'), Move('L4c-3c='), Move('L4c-3c+'), Move('L4c-2c='), Move('L4c-2c+'), Move('L4cx1c='), Move('L4cx1c+'), Move('S5d-4d='), Move('S5d-4d+'), Move('S5d-4e='), Move('S5d-4e+'), Move('K5c-4d'), Move('K5c-5b')]\n",
      "G4b-3a=\n",
      " e d c b a  \n",
      "----------\n",
      " p g k s P|1\n",
      " . . . . .|2\n",
      " . . . . .|3\n",
      " . S L G .|4\n",
      " . . K . .|5\n",
      "[Move('S4d-3c='), Move('S4d-3c+'), Move('S4d-3d='), Move('S4d-3d+'), Move('S4d-3e='), Move('S4d-3e+'), Move('S4d-5e='), Move('S4d-5e+'), Move('G4b-3a='), Move('G4b-3a+'), Move('G4b-3b='), Move('G4b-3b+'), Move('G4b-3c='), Move('G4b-3c+'), Move('G4b-4a='), Move('G4b-4a+'), Move('G4b-5b='), Move('G4b-5b+'), Move('L4c-3c='), Move('L4c-3c+'), Move('L4c-2c='), Move('L4c-2c+'), Move('L4cx1c='), Move('L4cx1c+'), Move('K5c-5b'), Move('K5c-5d')]\n",
      "S4d-3c=\n",
      " e d c b a  \n",
      "----------\n",
      " p g k s P|1\n",
      " . . . . .|2\n",
      " . . . . .|3\n",
      " . S L G .|4\n",
      " . . . K .|5\n",
      "[Move('S4d-3c='), Move('S4d-3c+'), Move('S4d-3d='), Move('S4d-3d+'), Move('S4d-3e='), Move('S4d-3e+'), Move('S4d-5c='), Move('S4d-5c+'), Move('S4d-5e='), Move('S4d-5e+'), Move('K5b-4a'), Move('K5b-5a'), Move('K5b-5c'), Move('G4b-3a='), Move('G4b-3a+'), Move('G4b-3b='), Move('G4b-3b+'), Move('G4b-3c='), Move('G4b-3c+'), Move('G4b-4a='), Move('G4b-4a+'), Move('L4c-3c='), Move('L4c-3c+'), Move('L4c-2c='), Move('L4c-2c+'), Move('L4cx1c='), Move('L4cx1c+')]\n",
      "S4d-3c=\n",
      " e d c b a  \n",
      "----------\n",
      " p g k s P|1\n",
      " . . . . .|2\n",
      " . . S . .|3\n",
      " . . L G .|4\n",
      " . . . K .|5\n",
      "[Move('K5b-4a'), Move('K5b-5a'), Move('K5b-5c'), Move('G4b-3a='), Move('G4b-3a+'), Move('G4b-3b='), Move('G4b-3b+'), Move('G4b-4a='), Move('G4b-4a+'), Move('S3c-2b='), Move('S3c-2b+'), Move('S3c-2c='), Move('S3c-2c+'), Move('S3c-2d='), Move('S3c-2d+'), Move('S3c-4d='), Move('S3c-4d+')]\n",
      "K5b-4a\n",
      " e d c b a  \n",
      "----------\n",
      " p g k s P|1\n",
      " . . . . .|2\n",
      " . . S . .|3\n",
      " . . L G .|4\n",
      " . . . . K|5\n",
      "[Move('K5a-4a'), Move('K5a-5b'), Move('G4b-3a='), Move('G4b-3a+'), Move('G4b-3b='), Move('G4b-3b+'), Move('G4b-4a='), Move('G4b-4a+'), Move('G4b-5b='), Move('G4b-5b+'), Move('S3c-2b='), Move('S3c-2b+'), Move('S3c-2c='), Move('S3c-2c+'), Move('S3c-2d='), Move('S3c-2d+'), Move('S3c-4d='), Move('S3c-4d+')]\n",
      "K5a-4a\n",
      " e d c b a  \n",
      "----------\n",
      " p g k s P|1\n",
      " . . . B .|2\n",
      " . . . . .|3\n",
      " . . L G .|4\n",
      " . . . . K|5\n"
     ]
    }
   ],
   "source": [
    "game = kyoto.kyotoShogiGame()\n",
    "\n",
    "for i in range(10):\n",
    "    game.printBoard()\n",
    "    print(game.legalMoves())\n",
    "    move = game.legalMoves()[0]\n",
    "    print(move)\n",
    "    \n",
    "    game.play(player.randomMove(game))\n",
    "\n",
    "game.printBoard()\n"
   ]
  },
  {
   "cell_type": "code",
   "execution_count": 29,
   "metadata": {},
   "outputs": [
    {
     "name": "stdout",
     "output_type": "stream",
     "text": [
      " e d c b a  \n",
      "----------\n",
      " . . . . .|1\n",
      " . . K . .|2\n",
      " . . . . .|3\n",
      " . . . k .|4\n",
      " . . . . .|5\n"
     ]
    },
    {
     "data": {
      "text/plain": [
       "[Move('K2c-1b'),\n",
       " Move('K2c-1c'),\n",
       " Move('K2c-1d'),\n",
       " Move('K2c-2b'),\n",
       " Move('K2c-2d'),\n",
       " Move('K2c-3b'),\n",
       " Move('K2c-3c'),\n",
       " Move('K2c-3d')]"
      ]
     },
     "execution_count": 29,
     "metadata": {},
     "output_type": "execute_result"
    }
   ],
   "source": [
    "game = kyoto.kyotoShogiGame()\n",
    "game.board={}\n",
    "game.board[(1,3)]=kyoto.King(kyoto.BLACK,kyoto.King)\n",
    "game.board[(2,1)]=kyoto.King(kyoto.WHITE,kyoto.King)\n",
    "game.printBoard()\n",
    "game.legalMoves()"
   ]
  },
  {
   "cell_type": "code",
   "execution_count": null,
   "metadata": {},
   "outputs": [],
   "source": []
  }
 ],
 "metadata": {
  "kernelspec": {
   "display_name": "Python 3",
   "language": "python",
   "name": "python3"
  },
  "language_info": {
   "codemirror_mode": {
    "name": "ipython",
    "version": 3
   },
   "file_extension": ".py",
   "mimetype": "text/x-python",
   "name": "python",
   "nbconvert_exporter": "python",
   "pygments_lexer": "ipython3",
   "version": "3.5.1"
  }
 },
 "nbformat": 4,
 "nbformat_minor": 4
}
